{
  "nbformat": 4,
  "nbformat_minor": 0,
  "metadata": {
    "colab": {
      "provenance": [],
      "authorship_tag": "ABX9TyP9GR66eGZt+fKeoAD3Qu6U",
      "include_colab_link": true
    },
    "kernelspec": {
      "name": "python3",
      "display_name": "Python 3"
    },
    "language_info": {
      "name": "python"
    }
  },
  "cells": [
    {
      "cell_type": "markdown",
      "metadata": {
        "id": "view-in-github",
        "colab_type": "text"
      },
      "source": [
        "<a href=\"https://colab.research.google.com/github/Sirenomanx/Repositorio-POO/blob/main/proyectofinal.ipynb\" target=\"_parent\"><img src=\"https://colab.research.google.com/assets/colab-badge.svg\" alt=\"Open In Colab\"/></a>"
      ]
    },
    {
      "cell_type": "code",
      "execution_count": 3,
      "metadata": {
        "colab": {
          "base_uri": "https://localhost:8080/"
        },
        "id": "OUCXro6cuReZ",
        "outputId": "cd328f4c-1acf-4b0b-a538-0aaf7b0477b7"
      },
      "outputs": [
        {
          "output_type": "stream",
          "name": "stdout",
          "text": [
            "\u001b[2K     \u001b[90m━━━━━━━━━━━━━━━━━━━━━━━━━━━━━━━━━━━━━━━━\u001b[0m \u001b[32m44.3/44.3 kB\u001b[0m \u001b[31m1.5 MB/s\u001b[0m eta \u001b[36m0:00:00\u001b[0m\n",
            "\u001b[2K   \u001b[90m━━━━━━━━━━━━━━━━━━━━━━━━━━━━━━━━━━━━━━━━\u001b[0m \u001b[32m9.9/9.9 MB\u001b[0m \u001b[31m66.5 MB/s\u001b[0m eta \u001b[36m0:00:00\u001b[0m\n",
            "\u001b[2K   \u001b[90m━━━━━━━━━━━━━━━━━━━━━━━━━━━━━━━━━━━━━━━━\u001b[0m \u001b[32m6.9/6.9 MB\u001b[0m \u001b[31m95.2 MB/s\u001b[0m eta \u001b[36m0:00:00\u001b[0m\n",
            "\u001b[2K   \u001b[90m━━━━━━━━━━━━━━━━━━━━━━━━━━━━━━━━━━━━━━━━\u001b[0m \u001b[32m79.1/79.1 kB\u001b[0m \u001b[31m4.9 MB/s\u001b[0m eta \u001b[36m0:00:00\u001b[0m\n",
            "\u001b[?25h"
          ]
        }
      ],
      "source": [
        "!pip install -q streamlit"
      ]
    },
    {
      "cell_type": "code",
      "source": [
        "%%writefile app.py\n",
        "# ------------------ LIBRERÍAS ------------------\n",
        "import streamlit as st                        # Interfaz web\n",
        "from datetime import datetime                # Fechas y tiempos\n",
        "import pickle                                # Guardar y cargar datos\n",
        "import random                                # Selección aleatoria de mensajes\n",
        "import smtplib                               # Envío de correos\n",
        "from email.mime.text import MIMEText         # Estructura del mensaje de correo\n",
        "\n",
        "# ------------------ CLASES ------------------\n",
        "\n",
        "# Clase que representa a un contacto\n",
        "class Contacto:\n",
        "    def __init__(self, nombre, fecha_nacimiento, email, msj_custom=None):\n",
        "        self.nombre = nombre\n",
        "        self.fecha_nacimiento = datetime.strptime(fecha_nacimiento, \"%Y-%m-%d\")  # Convierte string a objeto datetime\n",
        "        self.email = email\n",
        "        self.msj_custom = msj_custom  # Mensaje personalizado (opcional)\n",
        "\n",
        "    # Calcula los días que faltan para su próximo cumpleaños\n",
        "    def dias_para_cumple(self):\n",
        "        hoy = datetime.now().date()  # Fecha actual\n",
        "        cumple_este_anio = self.fecha_nacimiento.replace(year=hoy.year).date()\n",
        "        if cumple_este_anio < hoy:  # Si ya pasó este año, se calcula para el siguiente\n",
        "            cumple_este_anio = self.fecha_nacimiento.replace(year=hoy.year + 1).date()\n",
        "        return (cumple_este_anio - hoy).days  # Diferencia en días\n",
        "\n",
        "# Clase para manejar un mensaje de cumpleaños\n",
        "class Mensaje:\n",
        "    def __init__(self, contenido):\n",
        "        self.contenido = contenido\n",
        "\n",
        "    def mostrar(self):\n",
        "        return self.contenido  # Devuelve el texto del mensaje\n",
        "\n",
        "# Clase que gestiona toda la lógica de cumpleaños, mensajes y correos\n",
        "class GestorCumples:\n",
        "    def __init__(self):\n",
        "        self.contactos = self.cargar_datos(\"contactos.pkl\")  # Carga contactos guardados\n",
        "        self.mensajes = self.cargar_datos(\"mensajes.pkl\")    # Carga mensajes genéricos guardados\n",
        "\n",
        "    # Guarda datos (contactos o mensajes) en un archivo .pkl\n",
        "    def guardar_datos(self, archivo, datos):\n",
        "        with open(archivo, \"wb\") as f:\n",
        "            pickle.dump(datos, f)\n",
        "\n",
        "    # Carga datos desde un archivo .pkl\n",
        "    def cargar_datos(self, archivo):\n",
        "        try:\n",
        "            with open(archivo, \"rb\") as f:\n",
        "                return pickle.load(f)\n",
        "        except:\n",
        "            return []  # Si falla, retorna lista vacía\n",
        "\n",
        "    # Agrega un nuevo contacto a la lista\n",
        "    def agregar_contacto(self, nombre, fecha_nacimiento, email, msj_custom):\n",
        "        contacto = Contacto(nombre, fecha_nacimiento, email, msj_custom)\n",
        "        self.contactos.append(contacto)\n",
        "        self.guardar_datos(\"contactos.pkl\", self.contactos)\n",
        "\n",
        "    # Agrega un nuevo mensaje genérico\n",
        "    def agregar_mensaje_generico(self, contenido):\n",
        "        self.mensajes.append(Mensaje(contenido))\n",
        "        self.guardar_datos(\"mensajes.pkl\", self.mensajes)\n",
        "\n",
        "    # Devuelve el mensaje adecuado para el contacto\n",
        "    def obtener_mensaje_para(self, contacto):\n",
        "        if contacto.msj_custom:\n",
        "            return contacto.msj_custom  # Prioriza el personalizado\n",
        "        elif self.mensajes:\n",
        "            return random.choice(self.mensajes).mostrar()  # Elige uno aleatorio\n",
        "        else:\n",
        "            return \"¡Feliz cumpleaños!\"  # Mensaje por defecto\n",
        "\n",
        "    # Envío de correo a través de SMTP usando una cuenta de Gmail\n",
        "    def enviar_correo(self, destino, mensaje):\n",
        "        try:\n",
        "            remitente = \"luis.vega3336@alumnos.udg.mx\"   # Tu correo\n",
        "            clave = \"zfhp ncjv bcyz tgoo\"               # Contraseña de aplicación generada\n",
        "            msg = MIMEText(mensaje)\n",
        "            msg['Subject'] = \"🎉 ¡Feliz cumpleaños!\"\n",
        "            msg['From'] = remitente\n",
        "            msg['To'] = destino\n",
        "\n",
        "            # Conexión segura al servidor de Gmail y envío\n",
        "            with smtplib.SMTP_SSL('smtp.gmail.com', 465) as server:\n",
        "                server.login(remitente, clave)\n",
        "                server.send_message(msg)\n",
        "\n",
        "            return True  # Si se envía correctamente\n",
        "        except Exception as e:\n",
        "            return f\"Error al enviar: {e}\"  # Devuelve el error en caso de fallo\n",
        "\n",
        "# ------------------ INTERFAZ CON STREAMLIT ------------------\n",
        "\n",
        "gestor = GestorCumples()  # Instancia del gestor principal\n",
        "\n",
        "# Título principal de la app\n",
        "st.title(\"Gestor de Cumpleaños\")\n",
        "\n",
        "# Menú lateral con opciones\n",
        "menu = st.sidebar.radio(\"Opciones\", [\"Ver cumpleaños\", \"Agregar contacto\", \"Mensajes genéricos\"])\n",
        "\n",
        "# Opción: Agregar contacto\n",
        "if menu == \"Agregar contacto\":\n",
        "    st.header(\"Agregar nuevo contacto\")\n",
        "    with st.form(\"form_contacto\"):\n",
        "        nombre = st.text_input(\"Nombre\")\n",
        "        fecha_nacimiento = st.date_input(\"Fecha de nacimiento\").strftime(\"%Y-%m-%d\")\n",
        "        email = st.text_input(\"Correo electrónico\")\n",
        "        msj_custom = st.text_area(\"Mensaje personalizado (opcional)\")\n",
        "        enviado = st.form_submit_button(\"Guardar\")\n",
        "        if enviado:\n",
        "            gestor.agregar_contacto(nombre, fecha_nacimiento, email, msj_custom)\n",
        "            st.success(\"Contacto guardado correctamente.\")\n",
        "\n",
        "# Opción: Mensajes genéricos\n",
        "elif menu == \"Mensajes genéricos\":\n",
        "    st.header(\"Mensajes genéricos\")\n",
        "    # Muestra los mensajes existentes\n",
        "    for i, m in enumerate(gestor.mensajes):\n",
        "        st.write(f\"{i+1}. {m.mostrar()}\")\n",
        "\n",
        "    # Permite agregar uno nuevo\n",
        "    nuevo = st.text_area(\"Agregar nuevo mensaje\")\n",
        "    if st.button(\"Agregar mensaje\"):\n",
        "        gestor.agregar_mensaje_generico(nuevo)\n",
        "        st.success(\"Mensaje agregado.\")\n",
        "\n",
        "# Opción: Ver cumpleaños\n",
        "elif menu == \"Ver cumpleaños\":\n",
        "    st.header(\"Próximos cumpleaños\")\n",
        "\n",
        "    # Si no hay contactos, muestra aviso\n",
        "    if not gestor.contactos:\n",
        "        st.info(\"No hay contactos registrados.\")\n",
        "\n",
        "    # Muestra lista de contactos y permite enviarles correos\n",
        "    for c in gestor.contactos:\n",
        "        dias = c.dias_para_cumple()\n",
        "        st.markdown(f\"**{c.nombre}** ({c.email}) — en **{dias} día(s)**\")\n",
        "        mensaje = gestor.obtener_mensaje_para(c)\n",
        "        st.markdown(f\"> {mensaje}\")\n",
        "\n",
        "        # Botón para enviar correo\n",
        "        if st.button(f\"Enviar correo a {c.nombre}\", key=c.email):\n",
        "            resultado = gestor.enviar_correo(c.email, mensaje)\n",
        "            if resultado is True:\n",
        "                st.success(\"Correo enviado correctamente.\")\n",
        "            else:\n",
        "                st.error(resultado)\n",
        "\n",
        "\n",
        "\n"
      ],
      "metadata": {
        "colab": {
          "base_uri": "https://localhost:8080/"
        },
        "id": "T-DnHcD7uU5f",
        "outputId": "25b7f4cd-f055-40fd-cb01-e957c4aa48fc"
      },
      "execution_count": 1,
      "outputs": [
        {
          "output_type": "stream",
          "name": "stdout",
          "text": [
            "Writing app.py\n"
          ]
        }
      ]
    },
    {
      "cell_type": "code",
      "source": [
        "!npm install localtunnel"
      ],
      "metadata": {
        "colab": {
          "base_uri": "https://localhost:8080/"
        },
        "id": "eLntkFUUua8y",
        "outputId": "5222c2ce-8c5f-4f49-8cc6-2f14471c2d68"
      },
      "execution_count": 4,
      "outputs": [
        {
          "output_type": "stream",
          "name": "stdout",
          "text": [
            "\u001b[1G\u001b[0K⠙\u001b[1G\u001b[0K⠹\u001b[1G\u001b[0K⠸\u001b[1G\u001b[0K⠼\u001b[1G\u001b[0K⠴\u001b[1G\u001b[0K⠦\u001b[1G\u001b[0K⠧\u001b[1G\u001b[0K⠇\u001b[1G\u001b[0K⠏\u001b[1G\u001b[0K⠋\u001b[1G\u001b[0K⠙\u001b[1G\u001b[0K⠹\u001b[1G\u001b[0K⠸\u001b[1G\u001b[0K⠼\u001b[1G\u001b[0K⠴\u001b[1G\u001b[0K⠦\u001b[1G\u001b[0K⠧\u001b[1G\u001b[0K⠇\u001b[1G\u001b[0K⠏\u001b[1G\u001b[0K⠋\u001b[1G\u001b[0K⠙\u001b[1G\u001b[0K⠹\u001b[1G\u001b[0K⠸\u001b[1G\u001b[0K⠼\u001b[1G\u001b[0K⠴\u001b[1G\u001b[0K⠦\u001b[1G\u001b[0K\n",
            "added 22 packages in 3s\n",
            "\u001b[1G\u001b[0K⠦\u001b[1G\u001b[0K\n",
            "\u001b[1G\u001b[0K⠦\u001b[1G\u001b[0K3 packages are looking for funding\n",
            "\u001b[1G\u001b[0K⠦\u001b[1G\u001b[0K  run `npm fund` for details\n",
            "\u001b[1G\u001b[0K⠦\u001b[1G\u001b[0K"
          ]
        }
      ]
    },
    {
      "cell_type": "code",
      "source": [
        "!streamlit run app.py &>/content/logs.txt & npx localtunnel --port 8501 & curl ipv4.icanhazip.com"
      ],
      "metadata": {
        "colab": {
          "base_uri": "https://localhost:8080/"
        },
        "id": "WOdHLbOSue1U",
        "outputId": "2b638fc9-d962-418c-aea4-211b16b42d4c"
      },
      "execution_count": 5,
      "outputs": [
        {
          "output_type": "stream",
          "name": "stdout",
          "text": [
            "35.237.55.53\n",
            "\u001b[1G\u001b[0K⠙\u001b[1G\u001b[0Kyour url is: https://smooth-kings-fly.loca.lt\n"
          ]
        }
      ]
    }
  ]
}