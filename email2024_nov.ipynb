{
  "nbformat": 4,
  "nbformat_minor": 0,
  "metadata": {
    "colab": {
      "provenance": [],
      "include_colab_link": true
    },
    "kernelspec": {
      "name": "python3",
      "display_name": "Python 3"
    },
    "language_info": {
      "name": "python"
    }
  },
  "cells": [
    {
      "cell_type": "markdown",
      "metadata": {
        "id": "view-in-github",
        "colab_type": "text"
      },
      "source": [
        "<a href=\"https://colab.research.google.com/github/Sirenomanx/Repositorio-POO/blob/main/email2024_nov.ipynb\" target=\"_parent\"><img src=\"https://colab.research.google.com/assets/colab-badge.svg\" alt=\"Open In Colab\"/></a>"
      ]
    },
    {
      "cell_type": "code",
      "source": [
        "import smtplib, ssl\n",
        "\n",
        "port = 587  # For starttls\n",
        "smtp_server = \"smtp.gmail.com\"\n",
        "sender_email = \"luis.vega3336@alumnos.udg.mx\" # origen\n",
        "receiver_email = \"arturo.valdivia@academicos.udg.mx\" #destinatario\n",
        "password = input(\"Type your password and press enter:\")\n",
        "message = \"\"\"\\\n",
        "Subject: Hi there whats going on\n",
        "\n",
        "This message is sent from Python.\"\"\" #Mensaje de felicitacion\n",
        "\n",
        "context = ssl.create_default_context()\n",
        "with smtplib.SMTP(smtp_server, port) as server:\n",
        "    server.ehlo()  # Can be omitted\n",
        "    server.starttls(context=context)\n",
        "    server.ehlo()  # Can be omitted\n",
        "    server.login(sender_email, password)\n",
        "    server.sendmail(sender_email, receiver_email, message)"
      ],
      "metadata": {
        "id": "5q-JvOEkvcGJ",
        "colab": {
          "base_uri": "https://localhost:8080/"
        },
        "outputId": "825e6f64-7084-43ae-b375-1d760b8f6015"
      },
      "execution_count": 2,
      "outputs": [
        {
          "name": "stdout",
          "output_type": "stream",
          "text": [
            "Type your password and press enter:pvru ntie pzcp nqws\n"
          ]
        }
      ]
    }
  ]
}