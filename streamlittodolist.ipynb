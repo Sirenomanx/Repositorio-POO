{
  "cells": [
    {
      "cell_type": "markdown",
      "metadata": {
        "id": "view-in-github",
        "colab_type": "text"
      },
      "source": [
        "<a href=\"https://colab.research.google.com/github/Sirenomanx/Repositorio-POO/blob/main/streamlittodolist.ipynb\" target=\"_parent\"><img src=\"https://colab.research.google.com/assets/colab-badge.svg\" alt=\"Open In Colab\"/></a>"
      ]
    },
    {
      "cell_type": "code",
      "execution_count": null,
      "metadata": {
        "id": "fkPVu4QWMec9"
      },
      "outputs": [],
      "source": [
        "!pip install -q streamlit"
      ]
    },
    {
      "cell_type": "code",
      "execution_count": null,
      "metadata": {
        "colab": {
          "base_uri": "https://localhost:8080/"
        },
        "id": "lVBKS7umMhfd",
        "outputId": "da26a425-5f48-4b03-e1e4-d9c43e629d72"
      },
      "outputs": [
        {
          "output_type": "stream",
          "name": "stdout",
          "text": [
            "Overwriting app.py\n"
          ]
        }
      ],
      "source": [
        "%%writefile app.py\n",
        "import streamlit as st\n",
        "\n",
        "if \"tasks\" not in st.session_state:\n",
        "    st.session_state.tasks = []\n",
        "\n",
        "st.write(\"## Generar tareas\")\n",
        "task = st.text_input(\"Nueva tarea:\")\n",
        "\n",
        "if st.button(\"Agregar tarea\"):\n",
        "    if task and task not in st.session_state.tasks:\n",
        "        st.session_state.tasks.append(task)\n",
        "        st.rerun()\n",
        "\n",
        "st.write(\"### Lista de Tareas:\")\n",
        "for t in st.session_state.tasks:\n",
        "    st.write(f\"- {t}\")\n",
        "\n",
        "st.write(\"## Eliminar tarea ingresada\")\n",
        "\n",
        "if st.session_state.tasks:\n",
        "    task_to_remove = st.selectbox(\"Selecciona una tarea para eliminar:\", st.session_state.tasks, key=\"remove_task\")\n",
        "\n",
        "    if st.button(\"Eliminar tarea\"):\n",
        "        if task_to_remove in st.session_state.tasks:\n",
        "            st.session_state.tasks.remove(task_to_remove)\n",
        "            st.rerun()  # Recarga la aplicación para actualizar el selectbox\n",
        "else:\n",
        "    st.write(\"No hay tareas para eliminar.\")\n",
        "\n"
      ]
    },
    {
      "cell_type": "code",
      "execution_count": null,
      "metadata": {
        "colab": {
          "base_uri": "https://localhost:8080/"
        },
        "id": "NVrEXuKIM7jN",
        "outputId": "506f12e3-cf84-4152-a9dc-873a50e96bdd"
      },
      "outputs": [
        {
          "output_type": "stream",
          "name": "stdout",
          "text": [
            "\u001b[1G\u001b[0K⠙\u001b[1G\u001b[0K⠹\u001b[1G\u001b[0K⠸\u001b[1G\u001b[0K⠼\u001b[1G\u001b[0K⠴\u001b[1G\u001b[0K⠦\u001b[1G\u001b[0K⠧\u001b[1G\u001b[0K\n",
            "up to date, audited 23 packages in 975ms\n",
            "\u001b[1G\u001b[0K⠧\u001b[1G\u001b[0K\n",
            "\u001b[1G\u001b[0K⠧\u001b[1G\u001b[0K3 packages are looking for funding\n",
            "\u001b[1G\u001b[0K⠧\u001b[1G\u001b[0K  run `npm fund` for details\n",
            "\u001b[1G\u001b[0K⠧\u001b[1G\u001b[0K\n",
            "2 \u001b[33m\u001b[1mmoderate\u001b[22m\u001b[39m severity vulnerabilities\n",
            "\n",
            "To address all issues (including breaking changes), run:\n",
            "  npm audit fix --force\n",
            "\n",
            "Run `npm audit` for details.\n",
            "\u001b[1G\u001b[0K⠧\u001b[1G\u001b[0K"
          ]
        }
      ],
      "source": [
        "!npm install localtunnel"
      ]
    },
    {
      "cell_type": "code",
      "execution_count": null,
      "metadata": {
        "colab": {
          "base_uri": "https://localhost:8080/"
        },
        "id": "qijECsvBM_ch",
        "outputId": "f4e438a6-bb35-4edb-8630-65942d1a07bc"
      },
      "outputs": [
        {
          "output_type": "stream",
          "name": "stdout",
          "text": [
            "34.106.108.226\n",
            "\u001b[1G\u001b[0K⠙\u001b[1G\u001b[0Kyour url is: https://thick-walls-sort.loca.lt\n"
          ]
        }
      ],
      "source": [
        "!streamlit run app.py &>/content/logs.txt & npx localtunnel --port 8501 & curl ipv4.icanhazip.com"
      ]
    }
  ],
  "metadata": {
    "colab": {
      "provenance": [],
      "include_colab_link": true
    },
    "kernelspec": {
      "display_name": "Python 3",
      "name": "python3"
    },
    "language_info": {
      "name": "python"
    }
  },
  "nbformat": 4,
  "nbformat_minor": 0
}