{
  "nbformat": 4,
  "nbformat_minor": 0,
  "metadata": {
    "colab": {
      "provenance": [],
      "authorship_tag": "ABX9TyO/a4C4ftVdreTsRJ0LtWMH",
      "include_colab_link": true
    },
    "kernelspec": {
      "name": "python3",
      "display_name": "Python 3"
    },
    "language_info": {
      "name": "python"
    }
  },
  "cells": [
    {
      "cell_type": "markdown",
      "metadata": {
        "id": "view-in-github",
        "colab_type": "text"
      },
      "source": [
        "<a href=\"https://colab.research.google.com/github/Sirenomanx/Repositorio-POO/blob/main/Actividad_objetetos_2.ipynb\" target=\"_parent\"><img src=\"https://colab.research.google.com/assets/colab-badge.svg\" alt=\"Open In Colab\"/></a>"
      ]
    },
    {
      "cell_type": "code",
      "execution_count": null,
      "metadata": {
        "colab": {
          "base_uri": "https://localhost:8080/"
        },
        "id": "SxlJeQyz1r05",
        "outputId": "eca9afa6-ed85-45df-9f74-ffc8893e16ca"
      },
      "outputs": [
        {
          "output_type": "stream",
          "name": "stdout",
          "text": [
            "Nombre: Pablo, Departamento: Limpieza, Salario: 10000\n",
            "Nombre: Pablo, Departamento: Limpieza, Salario: 10000\n",
            "El salario no puede ser negativo\n",
            "Nombre: Pablo, Departamento: Limpieza, Salario: 15000\n",
            "Nombre: Juan, Departamento: Limpieza, Salario: 15000\n"
          ]
        }
      ],
      "source": [
        "class emp_uni:\n",
        "    def __init__(self,nombre,departamento,salario):\n",
        "        self.nombre=nombre\n",
        "        self.departamento=departamento\n",
        "        self.salario=salario\n",
        "\n",
        "    def get_nombre(self):\n",
        "        return self.nombre\n",
        "\n",
        "    def get_departamento(self):\n",
        "        return self.departamento\n",
        "\n",
        "    def get_salario(self):\n",
        "        return self.salario\n",
        "\n",
        "    def set_nombre(self, n_nombre):\n",
        "        self.nombre=n_nombre\n",
        "    def set_departamento(self, n_departamento):\n",
        "        self.departamento=n_departamento\n",
        "    def set_salario(self, n_salario):\n",
        "      if \"-\" in str(n_salario) or n_salario < 0:\n",
        "          print(\"El salario no puede ser negativo\")\n",
        "          return self.salario\n",
        "      else:\n",
        "          self.salario = n_salario\n",
        "\n",
        "    def get_info(self):\n",
        "        return f\"Nombre: {self.nombre}, Departamento: {self.departamento}, Salario: {self.get_salario()}\"\n",
        "\n",
        "#------------------Main-------------------\n",
        "emp1 = emp_uni(\"Pablo\", \"Limpieza\", 10000)\n",
        "print(emp1.get_info())\n",
        "\n",
        "print(emp1.get_info())\n",
        "emp1.set_salario(-15000)\n",
        "emp1.set_salario(15000)\n",
        "print(emp1.get_info())\n",
        "emp1.set_nombre(\"Juan\")\n",
        "print(emp1.get_info())\n",
        "\n",
        "\n"
      ]
    }
  ]
}