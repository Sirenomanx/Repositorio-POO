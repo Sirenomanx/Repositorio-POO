{
  "nbformat": 4,
  "nbformat_minor": 0,
  "metadata": {
    "colab": {
      "provenance": [],
      "authorship_tag": "ABX9TyPDFfIzjUhOQijP2agDqKP/",
      "include_colab_link": true
    },
    "kernelspec": {
      "name": "python3",
      "display_name": "Python 3"
    },
    "language_info": {
      "name": "python"
    }
  },
  "cells": [
    {
      "cell_type": "markdown",
      "metadata": {
        "id": "view-in-github",
        "colab_type": "text"
      },
      "source": [
        "<a href=\"https://colab.research.google.com/github/Sirenomanx/Repositorio-POO/blob/main/postinstagram.ipynb\" target=\"_parent\"><img src=\"https://colab.research.google.com/assets/colab-badge.svg\" alt=\"Open In Colab\"/></a>"
      ]
    },
    {
      "cell_type": "code",
      "execution_count": null,
      "metadata": {
        "colab": {
          "base_uri": "https://localhost:8080/",
          "height": 408
        },
        "id": "bDlayDunyNc7",
        "outputId": "e105c860-effc-4f92-cf24-aa04d1613494"
      },
      "outputs": [
        {
          "output_type": "stream",
          "name": "stdout",
          "text": [
            "Hola, soy nuevo\n",
            "10/02/25\n",
            "#meme #new\n",
            "Mexico\n",
            "Likes: 3 Coments: 2 Shares: 1 Saves: 1\n"
          ]
        },
        {
          "output_type": "display_data",
          "data": {
            "text/html": [
              "<img src=\"https://encrypted-tbn0.gstatic.com/images?q=tbn:ANd9GcST5xzgOoZ9VVBjbLf_e9iGqZZEoekJCzVx1Q&s\" width=\"300\" height=\"300\"/>"
            ],
            "text/plain": [
              "<IPython.core.display.Image object>"
            ]
          },
          "metadata": {}
        }
      ],
      "source": [
        "from IPython.display import Image, display\n",
        "\n",
        "class post():\n",
        "  def __init__(self, titulo, fecha, tags, ubi, foto):\n",
        "    self.titulo = titulo\n",
        "    self.fecha = fecha\n",
        "    self.tags = tags\n",
        "    self.ubi = ubi\n",
        "    self.foto = foto\n",
        "\n",
        "  @property\n",
        "  def titulo(self):\n",
        "    return self.__titulo\n",
        "\n",
        "  @titulo.setter\n",
        "  def titulo(self, ntitulo):\n",
        "    self.__titulo = ntitulo\n",
        "\n",
        "  @property\n",
        "  def fecha(self):\n",
        "    return self.__fecha\n",
        "\n",
        "  @fecha.setter\n",
        "  def fecha(self, nfecha):\n",
        "    self.__fecha = nfecha\n",
        "\n",
        "  @property\n",
        "  def tags(self):\n",
        "    return self.__tags\n",
        "\n",
        "  @tags.setter\n",
        "  def tags(self, ntags):\n",
        "    self.__tags = ntags\n",
        "\n",
        "  @property\n",
        "  def ubi(self):\n",
        "    return self.__ubi\n",
        "\n",
        "  @ubi.setter\n",
        "  def ubi(self, nubi):\n",
        "    self.__ubi = nubi\n",
        "\n",
        "  @property\n",
        "  def foto(self):\n",
        "    return self.__foto\n",
        "\n",
        "  @foto.setter\n",
        "  def foto(self, nfoto):\n",
        "    self.__foto = nfoto\n",
        "\n",
        "  def show_foto(self):\n",
        "        if self.foto:\n",
        "            display(Image(url=self.foto, width=300, height=300))\n",
        "        else:\n",
        "            print(\"No image available.\")\n",
        "\n",
        "\n",
        "class functions(post):\n",
        "  def __init__(self, titulo, fecha, tags, ubi, foto, likes, coments, share, save):\n",
        "    super().__init__(titulo, fecha, tags, ubi, foto)\n",
        "    self.likes = likes\n",
        "    self.coments = coments\n",
        "    self.share = share\n",
        "    self.save = save\n",
        "\n",
        "  def like(self):\n",
        "    self.likes += 1\n",
        "\n",
        "  def coment(self):\n",
        "    self.coments += 1\n",
        "\n",
        "  def share(self):\n",
        "    self.share += 1\n",
        "\n",
        "  def save(self):\n",
        "    self.save += 1\n",
        "\n",
        "\n",
        "\n",
        "#------------------Main------------------\n",
        "post1 = functions(\"Hola, soy nuevo\", \"10/02/25\", \"#meme #new\", \"Mexico\", \"https://encrypted-tbn0.gstatic.com/images?q=tbn:ANd9GcST5xzgOoZ9VVBjbLf_e9iGqZZEoekJCzVx1Q&s\",\n",
        "                  3, 2, 1, 1)\n",
        "\n",
        "print(post1.titulo)\n",
        "print(post1.fecha)\n",
        "print(post1.tags)\n",
        "print(post1.ubi)\n",
        "print(\"Likes:\", post1.likes , \"Coments:\", post1.coments, \"Shares:\", post1.share, \"Saves:\", post1.save)\n",
        "\n",
        "post1.show_foto()\n",
        "\n",
        "\n"
      ]
    }
  ]
}