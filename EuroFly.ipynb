{
  "nbformat": 4,
  "nbformat_minor": 0,
  "metadata": {
    "colab": {
      "provenance": [],
      "authorship_tag": "ABX9TyPQcqQKJMuGzaogfiGrYVuK",
      "include_colab_link": true
    },
    "kernelspec": {
      "name": "python3",
      "display_name": "Python 3"
    },
    "language_info": {
      "name": "python"
    }
  },
  "cells": [
    {
      "cell_type": "markdown",
      "metadata": {
        "id": "view-in-github",
        "colab_type": "text"
      },
      "source": [
        "<a href=\"https://colab.research.google.com/github/Sirenomanx/Repositorio-POO/blob/main/EuroFly.ipynb\" target=\"_parent\"><img src=\"https://colab.research.google.com/assets/colab-badge.svg\" alt=\"Open In Colab\"/></a>"
      ]
    },
    {
      "cell_type": "code",
      "execution_count": null,
      "metadata": {
        "colab": {
          "base_uri": "https://localhost:8080/"
        },
        "id": "ROba9XvcrZFl",
        "outputId": "31463c1b-64d8-4bac-a512-1cee689d8a48"
      },
      "outputs": [
        {
          "output_type": "stream",
          "name": "stdout",
          "text": [
            "Datos de vuelo inválidos.\n",
            "Datos de vuelo inválidos.\n",
            "No hay vuelos disponibles para reservar.\n"
          ]
        }
      ],
      "source": [
        "import datetime\n",
        "\n",
        "class Pasajero:\n",
        "    def __init__(self, nombre, pasaporte, contacto):\n",
        "        self.nombre = nombre\n",
        "        self.pasaporte = pasaporte\n",
        "        self.contacto = contacto\n",
        "\n",
        "    def mostrar_info(self):\n",
        "        print(f\"Nombre: {self.nombre}, Pasaporte: {self.pasaporte}, Contacto: {self.contacto}\")\n",
        "\n",
        "class Vuelo:\n",
        "    def __init__(self, destino, fecha, hora, numero_vuelo, asientos):\n",
        "        self.destino = destino\n",
        "        self.fecha = fecha\n",
        "        self.hora = hora\n",
        "        self.numero_vuelo = numero_vuelo\n",
        "        self.asientos_disponibles = asientos\n",
        "        self.pasajeros = []\n",
        "\n",
        "    def reservar_asiento(self, pasajero):\n",
        "        if self.asientos_disponibles > 0:\n",
        "            self.pasajeros.append(pasajero)\n",
        "            self.asientos_disponibles -= 1\n",
        "            print(f\"Asiento reservado para {pasajero.nombre} en el vuelo {self.numero_vuelo}.\")\n",
        "        else:\n",
        "            print(\"No hay asientos disponibles.\")\n",
        "\n",
        "    def cancelar_reserva(self, pasaporte):\n",
        "        for pasajero in self.pasajeros:\n",
        "            if pasajero.pasaporte == pasaporte:\n",
        "                self.pasajeros.remove(pasajero)\n",
        "                self.asientos_disponibles += 1\n",
        "                print(\"Reserva cancelada.\")\n",
        "                return\n",
        "        print(\"Pasajero no encontrado en este vuelo.\")\n",
        "\n",
        "    def mostrar_info(self):\n",
        "        print(f\"Vuelo {self.numero_vuelo} - Destino: {self.destino}, Fecha: {self.fecha}, Hora: {self.hora}, Asientos disponibles: {self.asientos_disponibles}\")\n",
        "\n",
        "class Aerolinea:\n",
        "    def __init__(self, nombre):\n",
        "        self.nombre = nombre\n",
        "        self.destinos = [\"Londres\", \"París\", \"Madrid\"]\n",
        "        self.horarios = [\"05:00\", \"20:00\"]\n",
        "        self.dias = [\"Lunes\", \"Miércoles\", \"Viernes\"]\n",
        "        self.vuelos = []\n",
        "\n",
        "    def agregar_vuelo(self, destino, fecha, hora):\n",
        "        if destino in self.destinos and hora in self.horarios and fecha.strftime('%A') in self.dias:\n",
        "            numero_vuelo = len(self.vuelos) + 1\n",
        "            vuelo = Vuelo(destino, fecha.strftime('%Y-%m-%d'), hora, numero_vuelo, 100)\n",
        "            self.vuelos.append(vuelo)\n",
        "            print(\"Vuelo agregado con éxito.\")\n",
        "        else:\n",
        "            print(\"Datos de vuelo inválidos.\")\n",
        "\n",
        "    def buscar_vuelo(self, destino):\n",
        "        for vuelo in self.vuelos:\n",
        "            if vuelo.destino == destino:\n",
        "                vuelo.mostrar_info()\n",
        "\n",
        "    def mostrar_vuelos(self):\n",
        "        for vuelo in self.vuelos:\n",
        "            vuelo.mostrar_info()\n",
        "\n",
        "# Simulación\n",
        "if __name__ == \"__main__\":\n",
        "    eurofly = Aerolinea(\"EuroFly\")\n",
        "    eurofly.agregar_vuelo(\"Londres\", datetime.datetime(2025, 4, 2), \"05:00\")\n",
        "    eurofly.agregar_vuelo(\"Madrid\", datetime.datetime(2025, 4, 4), \"20:00\")\n",
        "\n",
        "    pasajero1 = Pasajero(\"Luis Vega\", \"123456\", \"luis@gmail.com\")\n",
        "\n",
        "    if eurofly.vuelos:\n",
        "        eurofly.vuelos[0].reservar_asiento(pasajero1)\n",
        "    else:\n",
        "        print(\"No hay vuelos disponibles para reservar.\")\n",
        "\n",
        "    eurofly.mostrar_vuelos()\n",
        "\n",
        "\n",
        "\n",
        "\n",
        "\n",
        "\n",
        "\n"
      ]
    }
  ]
}