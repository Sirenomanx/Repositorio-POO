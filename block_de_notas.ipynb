{
  "nbformat": 4,
  "nbformat_minor": 0,
  "metadata": {
    "colab": {
      "provenance": [],
      "authorship_tag": "ABX9TyO1Npm6QnTwmX+/3CjxJnQ5",
      "include_colab_link": true
    },
    "kernelspec": {
      "name": "python3",
      "display_name": "Python 3"
    },
    "language_info": {
      "name": "python"
    }
  },
  "cells": [
    {
      "cell_type": "markdown",
      "metadata": {
        "id": "view-in-github",
        "colab_type": "text"
      },
      "source": [
        "<a href=\"https://colab.research.google.com/github/Sirenomanx/Repositorio-POO/blob/main/block_de_notas.ipynb\" target=\"_parent\"><img src=\"https://colab.research.google.com/assets/colab-badge.svg\" alt=\"Open In Colab\"/></a>"
      ]
    },
    {
      "cell_type": "code",
      "execution_count": null,
      "metadata": {
        "colab": {
          "base_uri": "https://localhost:8080/"
        },
        "id": "e6xwcPDgDaPM",
        "outputId": "2f0eae22-b05a-4363-d6a7-8a1eebb9ac2b"
      },
      "outputs": [
        {
          "output_type": "stream",
          "name": "stdout",
          "text": [
            "y\n",
            "\u001b[2K     \u001b[90m━━━━━━━━━━━━━━━━━━━━━━━━━━━━━━━━━━━━━━━━\u001b[0m \u001b[32m44.3/44.3 kB\u001b[0m \u001b[31m1.7 MB/s\u001b[0m eta \u001b[36m0:00:00\u001b[0m\n",
            "\u001b[2K   \u001b[90m━━━━━━━━━━━━━━━━━━━━━━━━━━━━━━━━━━━━━━━━\u001b[0m \u001b[32m9.8/9.8 MB\u001b[0m \u001b[31m68.9 MB/s\u001b[0m eta \u001b[36m0:00:00\u001b[0m\n",
            "\u001b[2K   \u001b[90m━━━━━━━━━━━━━━━━━━━━━━━━━━━━━━━━━━━━━━━━\u001b[0m \u001b[32m6.9/6.9 MB\u001b[0m \u001b[31m70.2 MB/s\u001b[0m eta \u001b[36m0:00:00\u001b[0m\n",
            "\u001b[2K   \u001b[90m━━━━━━━━━━━━━━━━━━━━━━━━━━━━━━━━━━━━━━━━\u001b[0m \u001b[32m79.1/79.1 kB\u001b[0m \u001b[31m6.0 MB/s\u001b[0m eta \u001b[36m0:00:00\u001b[0m\n",
            "\u001b[?25h"
          ]
        }
      ],
      "source": [
        "!pip install -q streamlit"
      ]
    },
    {
      "cell_type": "code",
      "source": [
        "%%writefile app.py\n",
        "\n",
        "import streamlit as st\n",
        "\n",
        "class Nota:\n",
        "    def __init__(self, titulo, contenido):\n",
        "        self.titulo = titulo\n",
        "        self.contenido = contenido\n",
        "\n",
        "    def get_titulo(self):\n",
        "        return self.titulo\n",
        "\n",
        "    def get_contenido(self):\n",
        "        return self.contenido\n",
        "\n",
        "    def set_contenido(self, nuevo_contenido):\n",
        "        self.contenido = nuevo_contenido\n",
        "\n",
        "    def set_titulo(self, nuevo_titulo):\n",
        "        self.titulo = nuevo_titulo\n",
        "\n",
        "    def mostrar_nota(self):\n",
        "        st.header(self.titulo)\n",
        "        st.write(self.contenido)\n",
        "\n",
        "class Nota_lista(Nota):\n",
        "    def __init__(self, titulo, contenido):\n",
        "        super().__init__(titulo, contenido)\n",
        "        self.items = contenido.split(\"\\n\") if contenido else []\n",
        "\n",
        "    def agregar_item(self, item):\n",
        "        self.items.append(item)\n",
        "\n",
        "    def get_items(self):\n",
        "        return self.items\n",
        "\n",
        "    def mostrar_nota(self):\n",
        "        st.header(self.titulo)\n",
        "        st.subheader(\"Lista de ítems:\")\n",
        "        for item in self.items:\n",
        "            st.write(f\"- {item}\")  # Mostrar cada ítem en una línea\n",
        "\n",
        "\n",
        "if 'notas' not in st.session_state:\n",
        "    st.session_state.notas = []\n",
        "\n",
        "st.title('Bloc de Notas')\n",
        "\n",
        "menu = st.sidebar.selectbox('Selecciona una opción', ['Inicio', 'Crear Nota', 'Mostrar Notas', 'Borrar Notas', 'Buscar Notas'])\n",
        "\n",
        "if menu == 'Inicio':\n",
        "    st.write('Bienvenido a tu bloc de notas 😀')\n",
        "\n",
        "elif menu == 'Crear Nota':\n",
        "    tipo_nota = st.selectbox('Tipo de nota', ['--Selecciona una opción--', 'Nota normal', 'Listado'])\n",
        "    titulo = st.text_input('Título de la nota')\n",
        "\n",
        "    if tipo_nota == 'Listado':\n",
        "        contenido = st.text_area('Lista de ítems (separados por líneas)')\n",
        "    else:\n",
        "        contenido = st.text_area('Contenido de la nota')\n",
        "\n",
        "    if st.button('Crear Nota'):\n",
        "        if titulo and contenido:\n",
        "            if tipo_nota == 'Nota normal':\n",
        "                nota = Nota(titulo, contenido)\n",
        "            elif tipo_nota == 'Listado':\n",
        "                nota = Nota_lista(titulo, contenido)\n",
        "            else:\n",
        "                st.warning(\"Selecciona un tipo de nota válido.\")\n",
        "                nota = None\n",
        "\n",
        "            if nota:\n",
        "                st.session_state.notas.append(nota)\n",
        "                st.success('Nota creada con éxito')\n",
        "\n",
        "elif menu == 'Mostrar Notas':\n",
        "    if not st.session_state.notas:\n",
        "        st.write(\"No hay notas guardadas.\")\n",
        "    else:\n",
        "        for i, nota in enumerate(st.session_state.notas):\n",
        "            nota.mostrar_nota()\n",
        "\n",
        "            if isinstance(nota, Nota_lista):\n",
        "                st.subheader('Items de la lista:')\n",
        "                for item in nota.get_items():\n",
        "                    st.write(f\"- {item}\")\n",
        "\n",
        "                nuevo_item = st.text_input(f\"Agregar ítem a {nota.get_titulo()}\", key=f\"item_{i}\")\n",
        "                if st.button(f\"Agregar Ítem a {nota.get_titulo()}\", key=f\"btn_{i}\"):\n",
        "                    if nuevo_item:\n",
        "                        nota.agregar_item(nuevo_item)\n",
        "                        st.session_state.notas[i] = nota  # Guardar el cambio\n",
        "                        st.rerun()\n",
        "                    else:\n",
        "                        st.warning(\"El ítem no puede estar vacío.\")\n",
        "            st.write(\"---\")\n",
        "\n",
        "elif menu == 'Borrar Notas':\n",
        "    if not st.session_state.notas:\n",
        "        st.write(\"No hay notas guardadas.\")\n",
        "    else:\n",
        "        nota_a_borrar = st.selectbox('Selecciona la nota a borrar', st.session_state.notas, format_func=lambda nota: nota.get_titulo())\n",
        "\n",
        "        if st.button('Eliminar Nota'):\n",
        "            st.session_state.notas = [nota for nota in st.session_state.notas if nota.get_titulo() != nota_a_borrar.get_titulo()]\n",
        "            st.success('Nota eliminada con éxito')\n",
        "\n",
        "elif menu == 'Buscar Notas':\n",
        "    titulo_buscar = st.text_input('Título de la nota a buscar')\n",
        "\n",
        "    if st.button('Buscar'):\n",
        "        notas_encontradas = [nota for nota in st.session_state.notas if titulo_buscar.lower() in nota.get_titulo().lower()]\n",
        "\n",
        "        if notas_encontradas:\n",
        "            for nota in notas_encontradas:\n",
        "                nota.mostrar_nota()\n",
        "                st.write(\"---\")\n",
        "        else:\n",
        "            st.warning(\"No se encontraron notas con ese título.\")\n"
      ],
      "metadata": {
        "colab": {
          "base_uri": "https://localhost:8080/"
        },
        "id": "iFdECgNZD41Q",
        "outputId": "b7e2557e-7e91-41d6-ed88-aa83627dddf6"
      },
      "execution_count": null,
      "outputs": [
        {
          "output_type": "stream",
          "name": "stdout",
          "text": [
            "Overwriting app.py\n"
          ]
        }
      ]
    },
    {
      "cell_type": "code",
      "source": [
        "!npm install localtunnel"
      ],
      "metadata": {
        "colab": {
          "base_uri": "https://localhost:8080/"
        },
        "collapsed": true,
        "id": "b8DPUDupDn5H",
        "outputId": "f8d98699-58d1-41a8-abec-b879ce205d58"
      },
      "execution_count": null,
      "outputs": [
        {
          "output_type": "stream",
          "name": "stdout",
          "text": [
            "\u001b[1G\u001b[0K⠙\u001b[1G\u001b[0K⠹\u001b[1G\u001b[0K⠸\u001b[1G\u001b[0K⠼\u001b[1G\u001b[0K⠴\u001b[1G\u001b[0K⠦\u001b[1G\u001b[0K⠧\u001b[1G\u001b[0K⠇\u001b[1G\u001b[0K⠏\u001b[1G\u001b[0K⠋\u001b[1G\u001b[0K⠙\u001b[1G\u001b[0K⠹\u001b[1G\u001b[0K⠸\u001b[1G\u001b[0K⠼\u001b[1G\u001b[0K⠴\u001b[1G\u001b[0K⠦\u001b[1G\u001b[0K⠧\u001b[1G\u001b[0K⠇\u001b[1G\u001b[0K⠏\u001b[1G\u001b[0K⠋\u001b[1G\u001b[0K⠙\u001b[1G\u001b[0K⠹\u001b[1G\u001b[0K⠸\u001b[1G\u001b[0K⠼\u001b[1G\u001b[0K⠴\u001b[1G\u001b[0K⠦\u001b[1G\u001b[0K\n",
            "added 22 packages in 3s\n",
            "\u001b[1G\u001b[0K⠦\u001b[1G\u001b[0K\n",
            "\u001b[1G\u001b[0K⠦\u001b[1G\u001b[0K3 packages are looking for funding\n",
            "\u001b[1G\u001b[0K⠦\u001b[1G\u001b[0K  run `npm fund` for details\n",
            "\u001b[1G\u001b[0K⠦\u001b[1G\u001b[0K"
          ]
        }
      ]
    },
    {
      "cell_type": "code",
      "source": [
        "!streamlit run app.py &>/content/logs.txt & npx localtunnel --port 8501 & curl ipv4.icanhazip.com"
      ],
      "metadata": {
        "colab": {
          "base_uri": "https://localhost:8080/"
        },
        "id": "tBUro8WDDre5",
        "outputId": "d9552502-88be-436a-eb60-9bbaffb6adbb"
      },
      "execution_count": null,
      "outputs": [
        {
          "output_type": "stream",
          "name": "stdout",
          "text": [
            "104.197.28.56\n",
            "\u001b[1G\u001b[0K⠙\u001b[1G\u001b[0Kyour url is: https://soft-streets-invent.loca.lt\n"
          ]
        }
      ]
    }
  ]
}