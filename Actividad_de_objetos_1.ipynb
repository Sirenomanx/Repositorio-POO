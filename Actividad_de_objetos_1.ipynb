{
  "nbformat": 4,
  "nbformat_minor": 0,
  "metadata": {
    "colab": {
      "provenance": [],
      "toc_visible": true,
      "authorship_tag": "ABX9TyO/ViqJAggMknE00xyTOZA2",
      "include_colab_link": true
    },
    "kernelspec": {
      "name": "python3",
      "display_name": "Python 3"
    },
    "language_info": {
      "name": "python"
    }
  },
  "cells": [
    {
      "cell_type": "markdown",
      "metadata": {
        "id": "view-in-github",
        "colab_type": "text"
      },
      "source": [
        "<a href=\"https://colab.research.google.com/github/Sirenomanx/Repositorio-POO/blob/main/Actividad_de_objetos_1.ipynb\" target=\"_parent\"><img src=\"https://colab.research.google.com/assets/colab-badge.svg\" alt=\"Open In Colab\"/></a>"
      ]
    },
    {
      "cell_type": "code",
      "execution_count": null,
      "metadata": {
        "colab": {
          "base_uri": "https://localhost:8080/"
        },
        "id": "jgPmGnnYwC0U",
        "outputId": "b37d3b7d-9611-414c-c252-298569a3c4d5"
      },
      "outputs": [
        {
          "output_type": "stream",
          "name": "stdout",
          "text": [
            "Toyota Corolla 2020\n",
            "Mazda 3 2020\n",
            "Honda Civic 2020\n",
            "February 21, 2025\n",
            "February 21, 2025\n",
            "February 21, 2025\n"
          ]
        }
      ],
      "source": [
        "from datetime import date\n",
        "from datetime import datetime\n",
        "\n",
        "class car:\n",
        "  def __init__(self, marca, modelo, año):\n",
        "    self.marca = marca\n",
        "    self.modelo = modelo\n",
        "    self.año = año\n",
        "\n",
        "  def get_info(self):\n",
        "    return self.marca + \" \" + self.modelo + \" \" +  str(self.año)\n",
        "\n",
        "  def ultima_verificacion(self):\n",
        "    today = date.today()\n",
        "    return today.strftime(\"%B %d, %Y\")\n",
        "\n",
        "\n",
        "#-------------Main-------------------\n",
        "car1 = car(\"Toyota\", \"Corolla\", 2020)\n",
        "print(car1.get_info())\n",
        "car2 = car(\"Mazda\", \"3\", 2020)\n",
        "print(car2.get_info())\n",
        "car3 = car(\"Honda\", \"Civic\", 2020)\n",
        "print(car3.get_info())\n",
        "print(car1.ultima_verificacion())\n",
        "print(car2.ultima_verificacion())\n",
        "print(car3.ultima_verificacion())"
      ]
    }
  ]
}