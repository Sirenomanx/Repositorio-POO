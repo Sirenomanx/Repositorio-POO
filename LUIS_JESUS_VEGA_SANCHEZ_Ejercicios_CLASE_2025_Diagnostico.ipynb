{
  "nbformat": 4,
  "nbformat_minor": 0,
  "metadata": {
    "colab": {
      "provenance": [],
      "include_colab_link": true
    },
    "kernelspec": {
      "name": "python3",
      "display_name": "Python 3"
    },
    "language_info": {
      "name": "python"
    }
  },
  "cells": [
    {
      "cell_type": "markdown",
      "metadata": {
        "id": "view-in-github",
        "colab_type": "text"
      },
      "source": [
        "<a href=\"https://colab.research.google.com/github/Sirenomanx/Repositorio-POO/blob/main/LUIS_JESUS_VEGA_SANCHEZ_Ejercicios_CLASE_2025_Diagnostico.ipynb\" target=\"_parent\"><img src=\"https://colab.research.google.com/assets/colab-badge.svg\" alt=\"Open In Colab\"/></a>"
      ]
    },
    {
      "cell_type": "markdown",
      "source": [
        "\n",
        "\n",
        "---\n",
        "\n",
        "## **Ejercicios de Python 3**  \n",
        "\n",
        "\n",
        "\n",
        "---\n",
        "\n",
        "### **1. Suma de Pares en una Lista **  \n",
        "#### **Problema**  \n",
        "Dada una lista de números enteros, encuentra todas las combinaciones de dos números cuya suma sea un valor objetivo.  \n",
        "\n",
        "#### **Ejemplo**  \n",
        "```python\n",
        "print(encontrar_pares([1, 2, 3, 4, 5, 6], 7))  \n",
        "# [(1, 6), (2, 5), (3, 4)]\n",
        "```\n",
        "\n",
        "\n",
        "\n",
        "---\n",
        "\n",
        "### **2. Conteo de Caracteres Frecuentes **  \n",
        "#### **Problema**  \n",
        "Dada una cadena de texto, encuentra el carácter que más veces se repite e indica cuántas veces aparece.  \n",
        "\n",
        "#### **Ejemplo**  \n",
        "```python\n",
        "print(caracter_mas_frecuente(\"banana\"))  \n",
        "# ('a', 3)\n",
        "```\n",
        "\n",
        "#### **Aspectos a Evaluar**  \n",
        "  \n",
        "\n",
        "---\n",
        "\n",
        "### **3. Verificación de Sudoku Válido **  \n",
        "#### **Problema**  \n",
        "Dada una cuadrícula de Sudoku de 9x9, verifica si es válida (cumple con las reglas de filas, columnas y subcuadrículas de 3x3).  \n",
        "\n",
        "#### **Ejemplo**  \n",
        "```python\n",
        "print(validar_sudoku(tablero))  # True o False\n",
        "```\n",
        "\n",
        "\n",
        "\n",
        "---\n",
        "\n",
        "### **4. Números Primos en un Rango **  \n",
        "#### **Problema**  \n",
        "Escribe una función que reciba dos números `a` y `b` y devuelva una lista de todos los números primos en ese rango.  \n",
        "\n",
        "#### **Ejemplo**  \n",
        "```python\n",
        "print(numeros_primos(10, 30))  \n",
        "# [11, 13, 17, 19, 23, 29]\n",
        "```\n",
        "\n",
        "\n",
        "\n",
        "---\n",
        "\n",
        "### **5. Longitud de la Secuencia de Collatz **  \n",
        "#### **Problema**  \n",
        "La secuencia de Collatz se define así:  \n",
        "1. Si el número es par, se divide por 2.  \n",
        "2. Si es impar, se multiplica por 3 y se suma 1.  \n",
        "3. Se repite el proceso hasta llegar a 1.  \n",
        "\n",
        "Escribe una función que determine cuántos pasos toma un número `n` para llegar a 1.  \n",
        "\n",
        "#### **Ejemplo**  \n",
        "```python\n",
        "print(longitud_collatz(12))  \n",
        "# 9\n",
        "```\n",
        "\n",
        "\n",
        "\n",
        "\n",
        "---\n"
      ],
      "metadata": {
        "id": "3mseMKx2azuk"
      }
    },
    {
      "cell_type": "code",
      "execution_count": null,
      "metadata": {
        "id": "TarBIb18ayK0",
        "colab": {
          "base_uri": "https://localhost:8080/"
        },
        "outputId": "29173c53-3b25-457b-f854-6e932632d6f8"
      },
      "outputs": [
        {
          "output_type": "stream",
          "name": "stdout",
          "text": [
            "[(2, 8), (4, 6)]\n"
          ]
        }
      ],
      "source": [
        "#Ejercicio 1\n",
        "\n",
        "def encontrar_pares(lista, objetivo):\n",
        "    pares = []\n",
        "    for i in range(len(lista)):\n",
        "        for j in range(i + 1, len(lista)):\n",
        "            if lista[i] + lista[j] == objetivo:\n",
        "                pares.append((lista[i], lista[j]))\n",
        "    return pares\n",
        "\n",
        "print(encontrar_pares([2, 4, 6, 8, 10, 12], 10))"
      ]
    },
    {
      "cell_type": "code",
      "source": [
        "#Ejercicio 2\n"
      ],
      "metadata": {
        "id": "yxgwG0qKy5D2"
      },
      "execution_count": null,
      "outputs": []
    }
  ]
}