{
  "nbformat": 4,
  "nbformat_minor": 0,
  "metadata": {
    "colab": {
      "provenance": [],
      "authorship_tag": "ABX9TyN8tVez2G1upCSJ8pa1AZtb",
      "include_colab_link": true
    },
    "kernelspec": {
      "name": "python3",
      "display_name": "Python 3"
    },
    "language_info": {
      "name": "python"
    }
  },
  "cells": [
    {
      "cell_type": "markdown",
      "metadata": {
        "id": "view-in-github",
        "colab_type": "text"
      },
      "source": [
        "<a href=\"https://colab.research.google.com/github/Sirenomanx/Repositorio-POO/blob/main/Untitled1.ipynb\" target=\"_parent\"><img src=\"https://colab.research.google.com/assets/colab-badge.svg\" alt=\"Open In Colab\"/></a>"
      ]
    },
    {
      "cell_type": "code",
      "execution_count": null,
      "metadata": {
        "colab": {
          "base_uri": "https://localhost:8080/"
        },
        "id": "jgPmGnnYwC0U",
        "outputId": "37ca3442-2ad4-4496-e7b2-6c73b2f29953"
      },
      "outputs": [
        {
          "output_type": "stream",
          "name": "stdout",
          "text": [
            "Toyota Corolla 2020\n",
            "Mazda 3 2020\n"
          ]
        }
      ],
      "source": [
        "class car:\n",
        "  def __init__(self, marca, modelo, año):\n",
        "    self.marca = marca\n",
        "    self.modelo = modelo\n",
        "    self.año = año\n",
        "\n",
        "  def get_info(self):\n",
        "    return self.marca + \" \" + self.modelo + \" \" +  str(self.año)\n",
        "\n",
        "car1 = car(\"Toyota\", \"Corolla\", 2020)\n",
        "print(car1.get_info())\n",
        "\n",
        "car2 = car(\"Mazda\", \"3\", 2020)\n",
        "print(car2.get_info())"
      ]
    }
  ]
}