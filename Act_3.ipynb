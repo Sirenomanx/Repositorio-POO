{
  "nbformat": 4,
  "nbformat_minor": 0,
  "metadata": {
    "colab": {
      "provenance": [],
      "authorship_tag": "ABX9TyM+3r+kuZDecW/xN61dxFDs",
      "include_colab_link": true
    },
    "kernelspec": {
      "name": "python3",
      "display_name": "Python 3"
    },
    "language_info": {
      "name": "python"
    }
  },
  "cells": [
    {
      "cell_type": "markdown",
      "metadata": {
        "id": "view-in-github",
        "colab_type": "text"
      },
      "source": [
        "<a href=\"https://colab.research.google.com/github/Sirenomanx/Repositorio-POO/blob/main/Act_3.ipynb\" target=\"_parent\"><img src=\"https://colab.research.google.com/assets/colab-badge.svg\" alt=\"Open In Colab\"/></a>"
      ]
    },
    {
      "cell_type": "code",
      "execution_count": null,
      "metadata": {
        "colab": {
          "base_uri": "https://localhost:8080/"
        },
        "id": "9n6_wDiv_j99",
        "outputId": "6ff3a7be-40d1-41d5-852c-20367f619ca1"
      },
      "outputs": [
        {
          "output_type": "stream",
          "name": "stdout",
          "text": [
            "Nombre: Pablo, Departamento: Limpieza, Salario: 10000\n",
            "Nombre: Juan, Departamento: Ventas, Salario: 20000\n",
            "El salario no puede ser negativo\n",
            "Nombre: Juan, Departamento: Ventas, Salario: 20000\n"
          ]
        }
      ],
      "source": [
        "from IPython.display import Image, display\n",
        "\n",
        "class emp_uni:\n",
        "    def __init__(self, nombre, departamento, salario, foto):  # Added foto as an argument\n",
        "        self.nombre = nombre\n",
        "        self.departamento = departamento\n",
        "        self.salario = salario\n",
        "        self.foto = foto\n",
        "\n",
        "    @property\n",
        "    def nombre(self):\n",
        "        return self._nombre\n",
        "\n",
        "    @nombre.setter\n",
        "    def nombre(self, n_nombre):\n",
        "        self._nombre = n_nombre\n",
        "\n",
        "    @property\n",
        "    def departamento(self):\n",
        "        return self._departamento\n",
        "\n",
        "    @departamento.setter\n",
        "    def departamento(self, n_departamento):\n",
        "        self._departamento = n_departamento\n",
        "\n",
        "    @property\n",
        "    def salario(self):\n",
        "        return self._salario\n",
        "\n",
        "    @salario.setter\n",
        "    def salario(self, n_salario):\n",
        "        if isinstance(n_salario, (int, float)) and n_salario >= 0:\n",
        "            self._salario = n_salario\n",
        "        else:\n",
        "            print(\"El salario no puede ser negativo\")\n",
        "\n",
        "    @property\n",
        "    def foto(self):\n",
        "        return self._foto\n",
        "\n",
        "    @foto.setter\n",
        "    def foto(self, n_foto):\n",
        "        self._foto = n_foto\n",
        "\n",
        "    def show_foto(self):\n",
        "        if self.foto:\n",
        "            display(Image(url=self.foto))\n",
        "        else:\n",
        "            print(\"No image available.\")\n",
        "\n",
        "    def get_info(self):\n",
        "        return f\"Nombre: {self.nombre}, Departamento: {self.departamento}, Salario: {self.salario}\"\n",
        "\n",
        "# ------------------Main-------------------\n",
        "emp1 = emp_uni(\"Pablo\", \"Limpieza\", 10000, foto=\"https://1.bp.blogspot.com/-GCkesF8r9NQ/YDe_6JDoqrI/AAAAAAAArPA/lwGajEHMnvsoCRfzasll5-rR7YpeI_B5gCLcBGAsYHQ/s2048/Toyota-Corolla-GR-S-2021%2B%25288%2529.jp\")\n",
        "print(emp1.get_info())\n",
        "\n",
        "emp1.nombre = \"Juan\"\n",
        "emp1.departamento = \"Ventas\"\n",
        "emp1.salario = 20000\n",
        "\n",
        "print(emp1.get_info())\n",
        "\n",
        "emp1.salario = -20000\n",
        "\n",
        "print(emp1.get_info())\n",
        "\n"
      ]
    }
  ]
}